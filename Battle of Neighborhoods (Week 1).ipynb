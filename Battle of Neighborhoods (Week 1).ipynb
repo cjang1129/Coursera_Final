{
 "cells": [
  {
   "cell_type": "code",
   "execution_count": null,
   "metadata": {},
   "outputs": [],
   "source": [
    "# Location data will be accessed through Foursquare API - Georgetown, Washington D.C. and Queens, New York\n",
    "# We will collect the top venues around each location through the k-means clustering algorithm\n",
    "# From there, we will compare and contrast the two locations to gain insight into the neighborhood demographics"
   ]
  }
 ],
 "metadata": {
  "kernelspec": {
   "display_name": "Python 3",
   "language": "python",
   "name": "python3"
  },
  "language_info": {
   "codemirror_mode": {
    "name": "ipython",
    "version": 3
   },
   "file_extension": ".py",
   "mimetype": "text/x-python",
   "name": "python",
   "nbconvert_exporter": "python",
   "pygments_lexer": "ipython3",
   "version": "3.7.4"
  }
 },
 "nbformat": 4,
 "nbformat_minor": 2
}
